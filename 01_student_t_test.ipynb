{
  "nbformat": 4,
  "nbformat_minor": 0,
  "metadata": {
    "colab": {
      "name": "01 - student t-test.ipynb",
      "provenance": [],
      "collapsed_sections": []
    },
    "kernelspec": {
      "name": "python3",
      "display_name": "Python 3"
    }
  },
  "cells": [
    {
      "cell_type": "markdown",
      "metadata": {
        "id": "51E0K5fht30J"
      },
      "source": [
        "# Student t-test\n",
        "Analysis to find out the difference of 1 specific characteristic/variable between 2 groups by comparing the average value (mean). e.g. height between male and female.\n",
        "<br>\n",
        "It try to answer: Is there a significant difference between the average of 2 groups? Is it due to random chance, or did we made an error in choosing who to include in the groups (sampling error)?"
      ]
    },
    {
      "cell_type": "markdown",
      "metadata": {
        "id": "4ZJLZQ4w4E-V"
      },
      "source": [
        "# Unpaired t-test (a.k.a. independent t-test)\n",
        "* comparing 2 independent or unrelated groups (e.g. height between male and female, monthly income between rural and urban dwellers)\n",
        "* Null hypothesis (H0): There is no significant difference between the means of the 2 groups.\n",
        "* Alternative hypothesis (H1): There is a significant difference between the two population means. The difference is unlikely caused by random chance or sampling error.\n",
        "<br>\n",
        "<br>\n",
        "Assumptions:\n",
        "1. The variable follows a normal distribution curve.\n",
        "2. The observed measurement is independently sampled.\n",
        "3. The variable is a ratio or interval.\n",
        "4. Both group has the same standard deviation/variance.\n",
        "5. The 2 groups are independent of each other."
      ]
    },
    {
      "cell_type": "code",
      "metadata": {
        "id": "TMilSuwAO87h"
      },
      "source": [
        "# Import the necessary library\n",
        "\n",
        "import pandas as pd\n",
        "import numpy as np\n",
        "import matplotlib.pyplot as plt\n",
        "import scipy.stats as stats\n",
        "from scipy.stats import norm\n",
        "import seaborn as sns"
      ],
      "execution_count": 13,
      "outputs": []
    },
    {
      "cell_type": "code",
      "metadata": {
        "colab": {
          "base_uri": "https://localhost:8080/",
          "height": 224
        },
        "id": "ic2Kcmj4Pidw",
        "outputId": "ffa7e5a0-a1c6-47d7-f599-d8be0bedd4a0"
      },
      "source": [
        "# Import the dataset\n",
        "\n",
        "diabetes = pd.read_csv('diabetesRCT180.csv')\n",
        "diabetes.head()"
      ],
      "execution_count": 2,
      "outputs": [
        {
          "output_type": "execute_result",
          "data": {
            "text/html": [
              "<div>\n",
              "<style scoped>\n",
              "    .dataframe tbody tr th:only-of-type {\n",
              "        vertical-align: middle;\n",
              "    }\n",
              "\n",
              "    .dataframe tbody tr th {\n",
              "        vertical-align: top;\n",
              "    }\n",
              "\n",
              "    .dataframe thead th {\n",
              "        text-align: right;\n",
              "    }\n",
              "</style>\n",
              "<table border=\"1\" class=\"dataframe\">\n",
              "  <thead>\n",
              "    <tr style=\"text-align: right;\">\n",
              "      <th></th>\n",
              "      <th>Patient_ID</th>\n",
              "      <th>Age</th>\n",
              "      <th>BMI</th>\n",
              "      <th>Status</th>\n",
              "      <th>Sex</th>\n",
              "      <th>HbA1c_0</th>\n",
              "      <th>HbA1c_6</th>\n",
              "      <th>HbA1c_12</th>\n",
              "      <th>Systolic_0</th>\n",
              "      <th>Systolic_6</th>\n",
              "      <th>Systolic_12</th>\n",
              "      <th>Aspirin_0</th>\n",
              "      <th>Aspirin_6</th>\n",
              "      <th>Aspirin_12</th>\n",
              "      <th>Education</th>\n",
              "    </tr>\n",
              "  </thead>\n",
              "  <tbody>\n",
              "    <tr>\n",
              "      <th>0</th>\n",
              "      <td>131</td>\n",
              "      <td>64</td>\n",
              "      <td>31.66</td>\n",
              "      <td>0</td>\n",
              "      <td>1</td>\n",
              "      <td>8.0</td>\n",
              "      <td>7.4</td>\n",
              "      <td>8.1</td>\n",
              "      <td>140</td>\n",
              "      <td>166</td>\n",
              "      <td>136</td>\n",
              "      <td>0</td>\n",
              "      <td>0</td>\n",
              "      <td>0</td>\n",
              "      <td>1</td>\n",
              "    </tr>\n",
              "    <tr>\n",
              "      <th>1</th>\n",
              "      <td>140</td>\n",
              "      <td>31</td>\n",
              "      <td>25.23</td>\n",
              "      <td>1</td>\n",
              "      <td>0</td>\n",
              "      <td>11.0</td>\n",
              "      <td>10.2</td>\n",
              "      <td>12.6</td>\n",
              "      <td>131</td>\n",
              "      <td>120</td>\n",
              "      <td>110</td>\n",
              "      <td>0</td>\n",
              "      <td>1</td>\n",
              "      <td>1</td>\n",
              "      <td>1</td>\n",
              "    </tr>\n",
              "    <tr>\n",
              "      <th>2</th>\n",
              "      <td>159</td>\n",
              "      <td>70</td>\n",
              "      <td>27.17</td>\n",
              "      <td>0</td>\n",
              "      <td>0</td>\n",
              "      <td>8.7</td>\n",
              "      <td>9.6</td>\n",
              "      <td>11.0</td>\n",
              "      <td>110</td>\n",
              "      <td>140</td>\n",
              "      <td>140</td>\n",
              "      <td>1</td>\n",
              "      <td>1</td>\n",
              "      <td>1</td>\n",
              "      <td>0</td>\n",
              "    </tr>\n",
              "    <tr>\n",
              "      <th>3</th>\n",
              "      <td>173</td>\n",
              "      <td>45</td>\n",
              "      <td>36.21</td>\n",
              "      <td>1</td>\n",
              "      <td>1</td>\n",
              "      <td>15.2</td>\n",
              "      <td>6.4</td>\n",
              "      <td>6.7</td>\n",
              "      <td>130</td>\n",
              "      <td>144</td>\n",
              "      <td>158</td>\n",
              "      <td>1</td>\n",
              "      <td>1</td>\n",
              "      <td>1</td>\n",
              "      <td>2</td>\n",
              "    </tr>\n",
              "    <tr>\n",
              "      <th>4</th>\n",
              "      <td>98</td>\n",
              "      <td>46</td>\n",
              "      <td>41.88</td>\n",
              "      <td>1</td>\n",
              "      <td>0</td>\n",
              "      <td>9.0</td>\n",
              "      <td>7.3</td>\n",
              "      <td>6.9</td>\n",
              "      <td>136</td>\n",
              "      <td>136</td>\n",
              "      <td>124</td>\n",
              "      <td>0</td>\n",
              "      <td>1</td>\n",
              "      <td>1</td>\n",
              "      <td>1</td>\n",
              "    </tr>\n",
              "  </tbody>\n",
              "</table>\n",
              "</div>"
            ],
            "text/plain": [
              "   Patient_ID  Age    BMI  Status  ...  Aspirin_0  Aspirin_6  Aspirin_12  Education\n",
              "0         131   64  31.66       0  ...          0          0           0          1\n",
              "1         140   31  25.23       1  ...          0          1           1          1\n",
              "2         159   70  27.17       0  ...          1          1           1          0\n",
              "3         173   45  36.21       1  ...          1          1           1          2\n",
              "4          98   46  41.88       1  ...          0          1           1          1\n",
              "\n",
              "[5 rows x 15 columns]"
            ]
          },
          "metadata": {
            "tags": []
          },
          "execution_count": 2
        }
      ]
    },
    {
      "cell_type": "markdown",
      "metadata": {
        "id": "vckpRn64vnyd"
      },
      "source": [
        "## Clean your data"
      ]
    },
    {
      "cell_type": "code",
      "metadata": {
        "id": "VS4e88_djmqN",
        "colab": {
          "base_uri": "https://localhost:8080/",
          "height": 224
        },
        "outputId": "9fa36fa1-afee-46a4-c889-3db6128d0e1b"
      },
      "source": [
        "# Change the values in Patient_ID column to string\n",
        "str(diabetes['Patient_ID'])\n",
        "\n",
        "# Relabel categorical variables\n",
        "diabetes['Status'] = diabetes['Status'].replace([0, 1], ['Single', 'Married'])\n",
        "diabetes['Sex'] = diabetes['Sex'].replace([0, 1], ['Female', 'Male'])\n",
        "diabetes['Education'] = diabetes['Education'].replace([0, 1, 2, 3, 4], ['Primary', 'Secondary', 'Bachelor', 'Master', 'Doctor'])\n",
        "\n",
        "# Show the cleaned data\n",
        "diabetes.head()"
      ],
      "execution_count": 3,
      "outputs": [
        {
          "output_type": "execute_result",
          "data": {
            "text/html": [
              "<div>\n",
              "<style scoped>\n",
              "    .dataframe tbody tr th:only-of-type {\n",
              "        vertical-align: middle;\n",
              "    }\n",
              "\n",
              "    .dataframe tbody tr th {\n",
              "        vertical-align: top;\n",
              "    }\n",
              "\n",
              "    .dataframe thead th {\n",
              "        text-align: right;\n",
              "    }\n",
              "</style>\n",
              "<table border=\"1\" class=\"dataframe\">\n",
              "  <thead>\n",
              "    <tr style=\"text-align: right;\">\n",
              "      <th></th>\n",
              "      <th>Patient_ID</th>\n",
              "      <th>Age</th>\n",
              "      <th>BMI</th>\n",
              "      <th>Status</th>\n",
              "      <th>Sex</th>\n",
              "      <th>HbA1c_0</th>\n",
              "      <th>HbA1c_6</th>\n",
              "      <th>HbA1c_12</th>\n",
              "      <th>Systolic_0</th>\n",
              "      <th>Systolic_6</th>\n",
              "      <th>Systolic_12</th>\n",
              "      <th>Aspirin_0</th>\n",
              "      <th>Aspirin_6</th>\n",
              "      <th>Aspirin_12</th>\n",
              "      <th>Education</th>\n",
              "    </tr>\n",
              "  </thead>\n",
              "  <tbody>\n",
              "    <tr>\n",
              "      <th>0</th>\n",
              "      <td>131</td>\n",
              "      <td>64</td>\n",
              "      <td>31.66</td>\n",
              "      <td>Single</td>\n",
              "      <td>Male</td>\n",
              "      <td>8.0</td>\n",
              "      <td>7.4</td>\n",
              "      <td>8.1</td>\n",
              "      <td>140</td>\n",
              "      <td>166</td>\n",
              "      <td>136</td>\n",
              "      <td>0</td>\n",
              "      <td>0</td>\n",
              "      <td>0</td>\n",
              "      <td>Secondary</td>\n",
              "    </tr>\n",
              "    <tr>\n",
              "      <th>1</th>\n",
              "      <td>140</td>\n",
              "      <td>31</td>\n",
              "      <td>25.23</td>\n",
              "      <td>Married</td>\n",
              "      <td>Female</td>\n",
              "      <td>11.0</td>\n",
              "      <td>10.2</td>\n",
              "      <td>12.6</td>\n",
              "      <td>131</td>\n",
              "      <td>120</td>\n",
              "      <td>110</td>\n",
              "      <td>0</td>\n",
              "      <td>1</td>\n",
              "      <td>1</td>\n",
              "      <td>Secondary</td>\n",
              "    </tr>\n",
              "    <tr>\n",
              "      <th>2</th>\n",
              "      <td>159</td>\n",
              "      <td>70</td>\n",
              "      <td>27.17</td>\n",
              "      <td>Single</td>\n",
              "      <td>Female</td>\n",
              "      <td>8.7</td>\n",
              "      <td>9.6</td>\n",
              "      <td>11.0</td>\n",
              "      <td>110</td>\n",
              "      <td>140</td>\n",
              "      <td>140</td>\n",
              "      <td>1</td>\n",
              "      <td>1</td>\n",
              "      <td>1</td>\n",
              "      <td>Primary</td>\n",
              "    </tr>\n",
              "    <tr>\n",
              "      <th>3</th>\n",
              "      <td>173</td>\n",
              "      <td>45</td>\n",
              "      <td>36.21</td>\n",
              "      <td>Married</td>\n",
              "      <td>Male</td>\n",
              "      <td>15.2</td>\n",
              "      <td>6.4</td>\n",
              "      <td>6.7</td>\n",
              "      <td>130</td>\n",
              "      <td>144</td>\n",
              "      <td>158</td>\n",
              "      <td>1</td>\n",
              "      <td>1</td>\n",
              "      <td>1</td>\n",
              "      <td>Bachelor</td>\n",
              "    </tr>\n",
              "    <tr>\n",
              "      <th>4</th>\n",
              "      <td>98</td>\n",
              "      <td>46</td>\n",
              "      <td>41.88</td>\n",
              "      <td>Married</td>\n",
              "      <td>Female</td>\n",
              "      <td>9.0</td>\n",
              "      <td>7.3</td>\n",
              "      <td>6.9</td>\n",
              "      <td>136</td>\n",
              "      <td>136</td>\n",
              "      <td>124</td>\n",
              "      <td>0</td>\n",
              "      <td>1</td>\n",
              "      <td>1</td>\n",
              "      <td>Secondary</td>\n",
              "    </tr>\n",
              "  </tbody>\n",
              "</table>\n",
              "</div>"
            ],
            "text/plain": [
              "   Patient_ID  Age    BMI   Status  ... Aspirin_0  Aspirin_6  Aspirin_12  Education\n",
              "0         131   64  31.66   Single  ...         0          0           0  Secondary\n",
              "1         140   31  25.23  Married  ...         0          1           1  Secondary\n",
              "2         159   70  27.17   Single  ...         1          1           1    Primary\n",
              "3         173   45  36.21  Married  ...         1          1           1   Bachelor\n",
              "4          98   46  41.88  Married  ...         0          1           1  Secondary\n",
              "\n",
              "[5 rows x 15 columns]"
            ]
          },
          "metadata": {
            "tags": []
          },
          "execution_count": 3
        }
      ]
    },
    {
      "cell_type": "markdown",
      "metadata": {
        "id": "Bc-S9tAuveAI"
      },
      "source": [
        "## Perform descriptive statistics for the baseline systolic blood pressure (Systolic_0)"
      ]
    },
    {
      "cell_type": "code",
      "metadata": {
        "colab": {
          "base_uri": "https://localhost:8080/"
        },
        "id": "jkHd1dsBhwsd",
        "outputId": "92e7aab5-8b67-4d12-95f4-6fa91f15265b"
      },
      "source": [
        "SBP0 = diabetes['Systolic_0']\n",
        "\n",
        "stats.describe(SBP0)"
      ],
      "execution_count": 4,
      "outputs": [
        {
          "output_type": "execute_result",
          "data": {
            "text/plain": [
              "DescribeResult(nobs=180, minmax=(80, 215), mean=137.69444444444446, variance=401.2413097454997, skewness=0.9322910213888529, kurtosis=2.1376522804034126)"
            ]
          },
          "metadata": {
            "tags": []
          },
          "execution_count": 4
        }
      ]
    },
    {
      "cell_type": "markdown",
      "metadata": {
        "id": "bHSJeJzx0QZX"
      },
      "source": [
        "## Interpret the result\n",
        "\n",
        "* The sample size or the total number of objects (nobs) is 180.\n",
        "* The minimum and maximum values (minmax) are 80 and 215, respectively.\n",
        "* The mean systolic blood pressure is 137.69.\n",
        "* The variance is 401.\n",
        "* Our dataset is positively skewed with a value of 0.93.\n",
        "* The kurtosis is 2.14 which means it is platykurtic.\n"
      ]
    },
    {
      "cell_type": "markdown",
      "metadata": {
        "id": "nzfbpp4jqake"
      },
      "source": [
        "## Plot the histogram for the baseline systolic blood pressure (Systolic_0)"
      ]
    },
    {
      "cell_type": "code",
      "metadata": {
        "colab": {
          "base_uri": "https://localhost:8080/",
          "height": 367
        },
        "id": "p1mylY5W5LKJ",
        "outputId": "822c1b79-89c7-4f93-d8e6-9ff6833c46ee"
      },
      "source": [
        "# Isolate the column containing the initial systolic blood pressure\n",
        "SBP0 = diabetes['Systolic_0']\n",
        "\n",
        "sns.distplot(SBP0, color='green')\n",
        "plt.title('Baseline Systolic Blood Pressure')"
      ],
      "execution_count": 29,
      "outputs": [
        {
          "output_type": "stream",
          "text": [
            "/usr/local/lib/python3.7/dist-packages/seaborn/distributions.py:2557: FutureWarning: `distplot` is a deprecated function and will be removed in a future version. Please adapt your code to use either `displot` (a figure-level function with similar flexibility) or `histplot` (an axes-level function for histograms).\n",
            "  warnings.warn(msg, FutureWarning)\n"
          ],
          "name": "stderr"
        },
        {
          "output_type": "execute_result",
          "data": {
            "text/plain": [
              "Text(0.5, 1.0, 'Baseline Systolic Blood Pressure')"
            ]
          },
          "metadata": {
            "tags": []
          },
          "execution_count": 29
        },
        {
          "output_type": "display_data",
          "data": {
            "image/png": "[encoded data removed]",
            "text/plain": [
              "<Figure size 432x288 with 1 Axes>"
            ]
          },
          "metadata": {
            "tags": [],
            "needs_background": "light"
          }
        }
      ]
    },
    {
      "cell_type": "code",
      "metadata": {
        "colab": {
          "base_uri": "https://localhost:8080/",
          "height": 142
        },
        "id": "3NITOHKrsQpI",
        "outputId": "84064344-8a9e-478e-bd49-2beafd0e5eea"
      },
      "source": [
        "# Find out the average SBP of male and female\n",
        "diabetes[['Sex', 'Systolic_0']].groupby('Sex').mean()"
      ],
      "execution_count": 6,
      "outputs": [
        {
          "output_type": "execute_result",
          "data": {
            "text/html": [
              "<div>\n",
              "<style scoped>\n",
              "    .dataframe tbody tr th:only-of-type {\n",
              "        vertical-align: middle;\n",
              "    }\n",
              "\n",
              "    .dataframe tbody tr th {\n",
              "        vertical-align: top;\n",
              "    }\n",
              "\n",
              "    .dataframe thead th {\n",
              "        text-align: right;\n",
              "    }\n",
              "</style>\n",
              "<table border=\"1\" class=\"dataframe\">\n",
              "  <thead>\n",
              "    <tr style=\"text-align: right;\">\n",
              "      <th></th>\n",
              "      <th>Systolic_0</th>\n",
              "    </tr>\n",
              "    <tr>\n",
              "      <th>Sex</th>\n",
              "      <th></th>\n",
              "    </tr>\n",
              "  </thead>\n",
              "  <tbody>\n",
              "    <tr>\n",
              "      <th>Female</th>\n",
              "      <td>139.712963</td>\n",
              "    </tr>\n",
              "    <tr>\n",
              "      <th>Male</th>\n",
              "      <td>134.666667</td>\n",
              "    </tr>\n",
              "  </tbody>\n",
              "</table>\n",
              "</div>"
            ],
            "text/plain": [
              "        Systolic_0\n",
              "Sex               \n",
              "Female  139.712963\n",
              "Male    134.666667"
            ]
          },
          "metadata": {
            "tags": []
          },
          "execution_count": 6
        }
      ]
    },
    {
      "cell_type": "markdown",
      "metadata": {
        "id": "2KVzt3Fv7EJu"
      },
      "source": [
        "## Plot the comparative histogram of female and male"
      ]
    },
    {
      "cell_type": "code",
      "metadata": {
        "colab": {
          "base_uri": "https://localhost:8080/",
          "height": 401
        },
        "id": "id28CEtg5-1D",
        "outputId": "08f63458-ab5a-4d28-d784-1c97f916d68c"
      },
      "source": [
        "# Create female subset\n",
        "Female = diabetes[(diabetes['Sex'] == 'Female')]\n",
        "FemaleSBP = Female['Systolic_0']\n",
        "\n",
        "# Create male subset\n",
        "Male = diabetes[(diabetes['Sex'] == 'Male')]\n",
        "MaleSBP = Male['Systolic_0']\n",
        "\n",
        "plt.subplots()\n",
        "sns.distplot(FemaleSBP, color='red', label='Female')\n",
        "sns.distplot(MaleSBP, color='blue', label='Male')\n",
        "plt.title('Baseline SBP of Female and Male')"
      ],
      "execution_count": 32,
      "outputs": [
        {
          "output_type": "stream",
          "text": [
            "/usr/local/lib/python3.7/dist-packages/seaborn/distributions.py:2557: FutureWarning: `distplot` is a deprecated function and will be removed in a future version. Please adapt your code to use either `displot` (a figure-level function with similar flexibility) or `histplot` (an axes-level function for histograms).\n",
            "  warnings.warn(msg, FutureWarning)\n",
            "/usr/local/lib/python3.7/dist-packages/seaborn/distributions.py:2557: FutureWarning: `distplot` is a deprecated function and will be removed in a future version. Please adapt your code to use either `displot` (a figure-level function with similar flexibility) or `histplot` (an axes-level function for histograms).\n",
            "  warnings.warn(msg, FutureWarning)\n"
          ],
          "name": "stderr"
        },
        {
          "output_type": "execute_result",
          "data": {
            "text/plain": [
              "Text(0.5, 1.0, 'Baseline SBP of Female and Male')"
            ]
          },
          "metadata": {
            "tags": []
          },
          "execution_count": 32
        },
        {
          "output_type": "display_data",
          "data": {
            "image/png": "[encoded data removed]",
            "text/plain": [
              "<Figure size 432x288 with 1 Axes>"
            ]
          },
          "metadata": {
            "tags": [],
            "needs_background": "light"
          }
        }
      ]
    },
    {
      "cell_type": "markdown",
      "metadata": {
        "id": "SoGxnxgwsO9G"
      },
      "source": [
        "## Perform independent t-test\n",
        "* Find out if there is a significant difference between the average SBP of male and female.\n",
        "* Null hypothesis (H0): There is no significant difference between the means of male and female.\n",
        "* Alternative hypothesis (H1): There is a significant difference between the means of male and female."
      ]
    },
    {
      "cell_type": "code",
      "metadata": {
        "colab": {
          "base_uri": "https://localhost:8080/"
        },
        "id": "r_nwTxqUuNXS",
        "outputId": "dc55a0e7-6a53-4d02-d650-23e52a63c865"
      },
      "source": [
        "# Independent t-test\n",
        "stats.ttest_ind(FemaleSBP, MaleSBP)"
      ],
      "execution_count": 7,
      "outputs": [
        {
          "output_type": "execute_result",
          "data": {
            "text/plain": [
              "Ttest_indResult(statistic=1.6639759372334502, pvalue=0.09787670433387921)"
            ]
          },
          "metadata": {
            "tags": []
          },
          "execution_count": 7
        }
      ]
    },
    {
      "cell_type": "markdown",
      "metadata": {
        "id": "hVHcAbyt3Oi8"
      },
      "source": [
        "## Interpret the results\n",
        "\n",
        "The p-value is 0.097, which is greater than 0.05 threshold. We cannot reject the null hypothesis. We can say that there is no significant difference between the average systolic blood pressure between male and female.\n"
      ]
    },
    {
      "cell_type": "markdown",
      "metadata": {
        "id": "08jTSihH2nBi"
      },
      "source": [
        "# Paired t-test (a.k.a. dependent, correlated)\n",
        "* comparing same group of people (e.g. bone density between menopaused and non-menopaused women)\n",
        "* comparing same item (e.g. ???\n",
        "* being subjected to same conditions (e.g. effects of medicine or treatment procedure)\n",
        "* Null hypothesis (H0): There is no significant difference between the means of the 2 groups.\n",
        "* Alternative hypothesis (H1): There is a significant difference between the 2 group means. The difference is unlikely caused by random chance or sampling error.\n",
        "<br>\n",
        "<br>\n",
        "Assumptions:\n",
        "1. The variable follows a normal distribution curve.\n",
        "2. The observed measurement is independently sampled.\n",
        "3. The variable should not have any outliers.\n",
        "4. The variable should be continuous (ratio or interval).\n",
        "5. The 2 groups are related to each other or matched pairs."
      ]
    },
    {
      "cell_type": "markdown",
      "metadata": {
        "id": "yIG-jEzd-QlK"
      },
      "source": [
        "## Compare the baseline and 12th month SBP of all female\n",
        "* H0: There is no significant difference between the baseline and the 12th month systolic blood pressure of all female.\n",
        "* H1: There is a significant difference between the baseline and the 12th month systolic blood pressure of all female, and this difference is unlikely due to sampling error or random chance."
      ]
    },
    {
      "cell_type": "code",
      "metadata": {
        "id": "G1xt7PhMAdns"
      },
      "source": [
        "# Create female subset (baseline and 12th month)\n",
        "\n",
        "Female = diabetes[(diabetes['Sex'] == 'Female')]\n",
        "FemaleSBP0 = Female['Systolic_0']\n",
        "FemaleSBP12 = Female['Systolic_12']"
      ],
      "execution_count": 8,
      "outputs": []
    },
    {
      "cell_type": "markdown",
      "metadata": {
        "id": "1jQLRhPjCqPU"
      },
      "source": [
        "## Perform descriptive statistics of the baseline and 12th month SBP for all female\n"
      ]
    },
    {
      "cell_type": "code",
      "metadata": {
        "colab": {
          "base_uri": "https://localhost:8080/",
          "height": 401
        },
        "id": "cLQ8rTfV7d5Y",
        "outputId": "2968e282-8386-4f1a-9154-78a99a8eb8fe"
      },
      "source": [
        "plt.subplots()\n",
        "sns.distplot(FemaleSBP0, color='red', label='Female')\n",
        "sns.distplot(FemaleSBP12, color='brown', label='Male')\n",
        "plt.title('Baseline and 12th month SBP among female')"
      ],
      "execution_count": 33,
      "outputs": [
        {
          "output_type": "stream",
          "text": [
            "/usr/local/lib/python3.7/dist-packages/seaborn/distributions.py:2557: FutureWarning: `distplot` is a deprecated function and will be removed in a future version. Please adapt your code to use either `displot` (a figure-level function with similar flexibility) or `histplot` (an axes-level function for histograms).\n",
            "  warnings.warn(msg, FutureWarning)\n",
            "/usr/local/lib/python3.7/dist-packages/seaborn/distributions.py:2557: FutureWarning: `distplot` is a deprecated function and will be removed in a future version. Please adapt your code to use either `displot` (a figure-level function with similar flexibility) or `histplot` (an axes-level function for histograms).\n",
            "  warnings.warn(msg, FutureWarning)\n"
          ],
          "name": "stderr"
        },
        {
          "output_type": "execute_result",
          "data": {
            "text/plain": [
              "Text(0.5, 1.0, 'Baseline and 12th month SBP amonf female')"
            ]
          },
          "metadata": {
            "tags": []
          },
          "execution_count": 33
        },
        {
          "output_type": "display_data",
          "data": {
            "image/png": "[encoded data removed]",
            "text/plain": [
              "<Figure size 432x288 with 1 Axes>"
            ]
          },
          "metadata": {
            "tags": [],
            "needs_background": "light"
          }
        }
      ]
    },
    {
      "cell_type": "code",
      "metadata": {
        "colab": {
          "base_uri": "https://localhost:8080/",
          "height": 297
        },
        "id": "Z8kO_Uu7Anve",
        "outputId": "3c15d1f9-ebe1-4fed-84ab-57531662eedf"
      },
      "source": [
        "Female[['Systolic_0', 'Systolic_12']].describe()"
      ],
      "execution_count": 9,
      "outputs": [
        {
          "output_type": "execute_result",
          "data": {
            "text/html": [
              "<div>\n",
              "<style scoped>\n",
              "    .dataframe tbody tr th:only-of-type {\n",
              "        vertical-align: middle;\n",
              "    }\n",
              "\n",
              "    .dataframe tbody tr th {\n",
              "        vertical-align: top;\n",
              "    }\n",
              "\n",
              "    .dataframe thead th {\n",
              "        text-align: right;\n",
              "    }\n",
              "</style>\n",
              "<table border=\"1\" class=\"dataframe\">\n",
              "  <thead>\n",
              "    <tr style=\"text-align: right;\">\n",
              "      <th></th>\n",
              "      <th>Systolic_0</th>\n",
              "      <th>Systolic_12</th>\n",
              "    </tr>\n",
              "  </thead>\n",
              "  <tbody>\n",
              "    <tr>\n",
              "      <th>count</th>\n",
              "      <td>108.000000</td>\n",
              "      <td>108.000000</td>\n",
              "    </tr>\n",
              "    <tr>\n",
              "      <th>mean</th>\n",
              "      <td>139.712963</td>\n",
              "      <td>136.814815</td>\n",
              "    </tr>\n",
              "    <tr>\n",
              "      <th>std</th>\n",
              "      <td>22.032283</td>\n",
              "      <td>21.014969</td>\n",
              "    </tr>\n",
              "    <tr>\n",
              "      <th>min</th>\n",
              "      <td>80.000000</td>\n",
              "      <td>90.000000</td>\n",
              "    </tr>\n",
              "    <tr>\n",
              "      <th>25%</th>\n",
              "      <td>128.000000</td>\n",
              "      <td>124.000000</td>\n",
              "    </tr>\n",
              "    <tr>\n",
              "      <th>50%</th>\n",
              "      <td>137.500000</td>\n",
              "      <td>136.000000</td>\n",
              "    </tr>\n",
              "    <tr>\n",
              "      <th>75%</th>\n",
              "      <td>148.000000</td>\n",
              "      <td>148.000000</td>\n",
              "    </tr>\n",
              "    <tr>\n",
              "      <th>max</th>\n",
              "      <td>215.000000</td>\n",
              "      <td>200.000000</td>\n",
              "    </tr>\n",
              "  </tbody>\n",
              "</table>\n",
              "</div>"
            ],
            "text/plain": [
              "       Systolic_0  Systolic_12\n",
              "count  108.000000   108.000000\n",
              "mean   139.712963   136.814815\n",
              "std     22.032283    21.014969\n",
              "min     80.000000    90.000000\n",
              "25%    128.000000   124.000000\n",
              "50%    137.500000   136.000000\n",
              "75%    148.000000   148.000000\n",
              "max    215.000000   200.000000"
            ]
          },
          "metadata": {
            "tags": []
          },
          "execution_count": 9
        }
      ]
    },
    {
      "cell_type": "code",
      "metadata": {
        "colab": {
          "base_uri": "https://localhost:8080/"
        },
        "id": "-RNcDY0VPFaj",
        "outputId": "1c3e9a5c-bed7-4212-f8dc-a862fa48ff99"
      },
      "source": [
        "stats.describe(FemaleSBP0)"
      ],
      "execution_count": 10,
      "outputs": [
        {
          "output_type": "execute_result",
          "data": {
            "text/plain": [
              "DescribeResult(nobs=108, minmax=(80, 215), mean=139.71296296296296, variance=485.4215126341295, skewness=0.9369535224340713, kurtosis=1.9241776567017617)"
            ]
          },
          "metadata": {
            "tags": []
          },
          "execution_count": 10
        }
      ]
    },
    {
      "cell_type": "code",
      "metadata": {
        "colab": {
          "base_uri": "https://localhost:8080/"
        },
        "id": "F6MSk59OPMGv",
        "outputId": "6d561de5-e2f7-4afd-d2f4-f96c9e420bbc"
      },
      "source": [
        "stats.describe(FemaleSBP12)"
      ],
      "execution_count": 11,
      "outputs": [
        {
          "output_type": "execute_result",
          "data": {
            "text/plain": [
              "DescribeResult(nobs=108, minmax=(90, 200), mean=136.8148148148148, variance=441.62893734856345, skewness=0.6096833446672806, kurtosis=0.5884955969546759)"
            ]
          },
          "metadata": {
            "tags": []
          },
          "execution_count": 11
        }
      ]
    },
    {
      "cell_type": "markdown",
      "metadata": {
        "id": "eI9H8LVCIhTH"
      },
      "source": [
        "## Interpret the result\n",
        "* The sample size consist of 108 female.\n",
        "* The average SBP after 12 months (136.8) is lower than the baseline (139.7).\n",
        "* The baseline standard deviation is 22 while the 12th month is 21.\n",
        "* Both are positively skewed with values of 0.93 and 0.61.\n",
        "* Both are platykurtic with values of 1.92 and 0.59."
      ]
    },
    {
      "cell_type": "markdown",
      "metadata": {
        "id": "jpVYg5MS7QSI"
      },
      "source": [
        "## Plot the comparative histogram of the baseline and 12th month SBP among females."
      ]
    },
    {
      "cell_type": "markdown",
      "metadata": {
        "id": "cWRBjRorQRp_"
      },
      "source": [
        "## Perform a paired t-test\n",
        "* Find out if there is a significant difference between the baseline and 12th month average SBP of all female.\n",
        "* H0: There is no significant difference between the average baseline and 12th month SBP of all female.\n",
        "* H1: There is a significant difference between the average baseline and 12th month SBP of all female"
      ]
    },
    {
      "cell_type": "code",
      "metadata": {
        "colab": {
          "base_uri": "https://localhost:8080/"
        },
        "id": "Zo00gN65DQC7",
        "outputId": "dda1335d-146b-483a-866a-4c9355f2c84f"
      },
      "source": [
        "  stats.ttest_rel(FemaleSBP0, FemaleSBP12)"
      ],
      "execution_count": 12,
      "outputs": [
        {
          "output_type": "execute_result",
          "data": {
            "text/plain": [
              "Ttest_relResult(statistic=1.1309213857176188, pvalue=0.26061665637474474)"
            ]
          },
          "metadata": {
            "tags": []
          },
          "execution_count": 12
        }
      ]
    },
    {
      "cell_type": "markdown",
      "metadata": {
        "id": "RjbY7uuc1Qc5"
      },
      "source": [
        "## Interpret the results\n",
        "\n",
        "The p-value is 0.26, which is greater than 0.05 threshold. We cannot reject the null hypothesis. We can say that there is no significant difference between the average systolic blood pressure between male and female.\n"
      ]
    },
    {
      "cell_type": "code",
      "metadata": {
        "id": "YUg0T97m0oQL"
      },
      "source": [
        ""
      ],
      "execution_count": 12,
      "outputs": []
    }
  ]
}